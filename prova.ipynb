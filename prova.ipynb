{
 "cells": [
  {
   "cell_type": "code",
   "execution_count": null,
   "metadata": {},
   "outputs": [],
   "source": [
    "\"\"\" \n",
    "Imatges de sample data > 29 > 15.08.24-16.08.24\n",
    "\n",
    "\"\"\""
   ]
  },
  {
   "cell_type": "code",
   "execution_count": null,
   "metadata": {},
   "outputs": [
    {
     "data": {
      "text/plain": [
       "'\\ncal tmb:\\n\\nsudo apt update\\nsudo apt install -y qtbase5-dev qtchooser qt5-qmake qtbase5-dev-tools libxcb-xinerama0\\n\\n'"
      ]
     },
     "execution_count": 11,
     "metadata": {},
     "output_type": "execute_result"
    }
   ],
   "source": [
    "\"\"\"\n",
    "pip install torch torchvision torchaudio\n",
    "pip install detectron2 opencv-python matplotlib numpy\n",
    "pip install tensorflow tensorflow-datasets\n",
    "pip install mrcnn\n",
    "\n",
    "\"\"\""
   ]
  },
  {
   "cell_type": "markdown",
   "metadata": {},
   "source": [
    "### Define dataset:"
   ]
  },
  {
   "cell_type": "code",
   "execution_count": 19,
   "metadata": {},
   "outputs": [],
   "source": [
    "import torch\n",
    "import os\n",
    "from torch.utils.data import Dataset\n",
    "from PIL import Image\n",
    "import numpy as np\n",
    "import json\n",
    "from torchvision import transforms\n",
    "\n",
    "class BabySegmentationDataset(Dataset):\n",
    "    def __init__(self, image_folder, annotation_folder, image_list, transforms=None):\n",
    "        \"\"\"\n",
    "        Args:\n",
    "            image_folder (string): Path to the folder containing images.\n",
    "            annotation_folder (string): Path to the folder containing annotations.\n",
    "            image_list (list): List of image names (from train.txt).\n",
    "            transforms (callable, optional): A function/transform to apply to the image.\n",
    "        \"\"\"\n",
    "        self.image_folder = image_folder\n",
    "        self.annotation_folder = annotation_folder\n",
    "        self.image_list = image_list\n",
    "        self.transforms = transforms\n",
    "\n",
    "    def __len__(self):\n",
    "        return len(self.image_list)\n",
    "\n",
    "    def __getitem__(self, idx):\n",
    "        # Load image\n",
    "        img_name = self.image_list[idx] + '.jpg'\n",
    "        img_path = os.path.join(self.image_folder, img_name)\n",
    "        image = Image.open(img_path).convert(\"RGB\")\n",
    "        \n",
    "        # Load annotation (binary mask)\n",
    "        mask_name = self.image_list[idx] + '.png'\n",
    "        mask_path = os.path.join(self.annotation_folder, mask_name)\n",
    "        mask = Image.open(mask_path)\n",
    "        \n",
    "        # Convert mask to numpy array\n",
    "        mask = np.array(mask)\n",
    "\n",
    "        # Create a binary mask where 1 represents baby and 0 is the background\n",
    "        # (assuming your segmentation mask has 'baby' in it as a distinct color or value)\n",
    "        # You may need to modify this based on the exact annotation format.\n",
    "        baby_mask = mask == 1  # This assumes the mask uses 1 for baby pixels\n",
    "\n",
    "        # Prepare the target for Mask R-CNN\n",
    "        target = {}\n",
    "        target['boxes'] = torch.tensor([[0, 0, image.width, image.height]])  # Define a dummy bounding box for simplicity\n",
    "        target['labels'] = torch.tensor([1])  # Assume 'baby' is label 1\n",
    "        target['masks'] = torch.tensor(baby_mask, dtype=torch.uint8).unsqueeze(0)  # Add a channel dimension for the mask\n",
    "\n",
    "        # Apply transformations\n",
    "        if self.transforms:\n",
    "            image = self.transforms(image)\n",
    "\n",
    "        return image, target\n",
    "\n",
    "\n",
    "# Set up transforms (if any)\n",
    "transform = transforms.Compose([\n",
    "    transforms.ToTensor(),\n",
    "])\n",
    "\n",
    "# Prepare your list of image names from 'train.txt'\n",
    "with open('/home/martina/codi2/3year/synthesisII/prova_dataset/ImageSets/Main/train.txt', 'r') as f:\n",
    "    train_images = [line.strip() for line in f.readlines()]\n",
    "\n",
    "# Define dataset and dataloaders\n",
    "train_dataset = BabySegmentationDataset(\n",
    "    image_folder='/home/martina/codi2/3year/synthesisII/prova_dataset/JPEGImages',\n",
    "    annotation_folder='/home/martina/codi2/3year/synthesisII/prova_dataset/SegmentationClass',\n",
    "    image_list=train_images[:5],  # Using the first 5 images for training\n",
    "    transforms=transform\n",
    ")\n",
    "\n",
    "val_dataset = BabySegmentationDataset(\n",
    "    image_folder='/home/martina/codi2/3year/synthesisII/prova_dataset/JPEGImages',\n",
    "    annotation_folder='/home/martina/codi2/3year/synthesisII/prova_dataset/SegmentationClass',\n",
    "    image_list=train_images[5:7],  # Using the next 2 images for testing\n",
    "    transforms=transform\n",
    ")\n",
    "\n",
    "train_loader = torch.utils.data.DataLoader(train_dataset, batch_size=2, shuffle=True, collate_fn=lambda x: tuple(zip(*x)))\n",
    "val_loader = torch.utils.data.DataLoader(val_dataset, batch_size=2, shuffle=False, collate_fn=lambda x: tuple(zip(*x)))\n"
   ]
  },
  {
   "cell_type": "code",
   "execution_count": 20,
   "metadata": {},
   "outputs": [
    {
     "ename": "",
     "evalue": "",
     "output_type": "error",
     "traceback": [
      "\u001b[1;31mThe Kernel crashed while executing code in the current cell or a previous cell. \n",
      "\u001b[1;31mPlease review the code in the cell(s) to identify a possible cause of the failure. \n",
      "\u001b[1;31mClick <a href='https://aka.ms/vscodeJupyterKernelCrash'>here</a> for more info. \n",
      "\u001b[1;31mView Jupyter <a href='command:jupyter.viewOutput'>log</a> for further details."
     ]
    }
   ],
   "source": [
    "import torch\n",
    "from torchvision import models\n",
    "\n",
    "# Load pre-trained Mask R-CNN model\n",
    "model = models.detection.maskrcnn_resnet50_fpn(pretrained=True)\n",
    "\n",
    "# Modify the model to match the number of classes in your dataset\n",
    "num_classes = 2  # 1 class (baby) + background\n",
    "in_features = model.roi_heads.box_predictor.cls_score.in_features\n",
    "model.roi_heads.box_predictor = models.detection.faster_rcnn.FastRCNNPredictor(in_features, num_classes)\n",
    "model.roi_heads.mask_predictor = models.detection.mask_rcnn.MaskRCNNPredictor(in_features, 256, num_classes)\n",
    "\n",
    "# Move the model to GPU if available\n",
    "device = torch.device(\"cuda\" if torch.cuda.is_available() else \"cpu\")\n",
    "model.to(device)\n",
    "\n",
    "# Optimizer\n",
    "optimizer = torch.optim.Adam(model.parameters(), lr=0.001)\n",
    "\n",
    "# Training loop\n",
    "num_epochs = 10\n",
    "for epoch in range(num_epochs):\n",
    "    model.train()\n",
    "    for images, targets in train_loader:\n",
    "        images = [image.to(device) for image in images]\n",
    "        targets = [{k: v.to(device) for k, v in t.items()} for t in targets]\n",
    "        \n",
    "        optimizer.zero_grad()\n",
    "        loss_dict = model(images, targets)\n",
    "        losses = sum(loss for loss in loss_dict.values())\n",
    "        \n",
    "        losses.backward()\n",
    "        optimizer.step()\n",
    "\n",
    "    print(f\"Epoch {epoch} Loss: {losses.item()}\")\n"
   ]
  },
  {
   "cell_type": "code",
   "execution_count": null,
   "metadata": {},
   "outputs": [],
   "source": [
    "model.eval()\n",
    "with torch.no_grad():\n",
    "    for images, targets in val_loader:\n",
    "        images = [image.to(device) for image in images]\n",
    "        targets = [{k: v.to(device) for k, v in t.items()} for t in targets]\n",
    "        \n",
    "        prediction = model(images)  # Output of the model\n",
    "        \n",
    "        # Here you can evaluate your predictions (compare masks and ground truths, etc.)\n"
   ]
  },
  {
   "cell_type": "code",
   "execution_count": null,
   "metadata": {},
   "outputs": [],
   "source": []
  }
 ],
 "metadata": {
  "kernelspec": {
   "display_name": "Python 3",
   "language": "python",
   "name": "python3"
  },
  "language_info": {
   "codemirror_mode": {
    "name": "ipython",
    "version": 3
   },
   "file_extension": ".py",
   "mimetype": "text/x-python",
   "name": "python",
   "nbconvert_exporter": "python",
   "pygments_lexer": "ipython3",
   "version": "3.10.12"
  }
 },
 "nbformat": 4,
 "nbformat_minor": 2
}
